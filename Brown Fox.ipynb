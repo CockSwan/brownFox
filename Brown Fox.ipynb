{
 "cells": [
  {
   "cell_type": "code",
   "execution_count": 213,
   "id": "4fe0377d",
   "metadata": {},
   "outputs": [
    {
     "data": {
      "text/plain": [
       "'The quick brown fox jumps over the lazy dog'"
      ]
     },
     "execution_count": 213,
     "metadata": {},
     "output_type": "execute_result"
    }
   ],
   "source": [
    "givenString=\"The quick brown fox jumps over the lazy dog\"\n",
    "givenString"
   ]
  },
  {
   "cell_type": "code",
   "execution_count": 198,
   "id": "f1d392d3",
   "metadata": {},
   "outputs": [
    {
     "data": {
      "text/plain": [
       "['fox', 'the', 'The', 'dog']"
      ]
     },
     "execution_count": 198,
     "metadata": {},
     "output_type": "execute_result"
    }
   ],
   "source": [
    "exact3=[] #open a list\n",
    "for n in range(len(givenString)-4):\n",
    "    if (givenString[n]==\" \") & (givenString[n+4]==\" \"):\n",
    "        #print(givenString[n+1:n+4])\n",
    "        exact3.append(givenString[n+1:n+4])\n",
    "        \n",
    "if(givenString[3]==\" \"):\n",
    "    #print(givenString[:3])\n",
    "    exact3.append(givenString[:3])\n",
    "\n",
    "if(givenString[-4]==\" \"):\n",
    "    #print(givenString[-3:])\n",
    "    exact3.append(givenString[-3:])\n",
    "        \n",
    "exact3"
   ]
  },
  {
   "cell_type": "code",
   "execution_count": 223,
   "id": "0babacdd",
   "metadata": {},
   "outputs": [
    {
     "data": {
      "text/plain": [
       "[-1, 3, 9, 15, 19, 25, 30, 34, 39, 43]"
      ]
     },
     "execution_count": 223,
     "metadata": {},
     "output_type": "execute_result"
    }
   ],
   "source": [
    "spacings = [-1] #minus 1 is to deal with the first word\n",
    "\n",
    "for n in range(len(givenString)):\n",
    "    if (givenString[n]==\" \"):\n",
    "        spacings.append(n)\n",
    "        \n",
    "spacings.append(len(givenString))\n",
    "spacings"
   ]
  },
  {
   "cell_type": "code",
   "execution_count": 224,
   "id": "42347d43",
   "metadata": {},
   "outputs": [
    {
     "data": {
      "text/plain": [
       "['The', 'quick', 'brown', 'fox', 'jumps', 'over', 'the', 'lazy', 'dog']"
      ]
     },
     "execution_count": 224,
     "metadata": {},
     "output_type": "execute_result"
    }
   ],
   "source": [
    "words = [] #open a list\n",
    "\n",
    "for n in range(len(spacings)-1): #because n+1 is calculated in the loop, has to limit the loop iteration\n",
    "    words.append(givenString[spacings[n]+1:spacings[n+1]])\n",
    "words"
   ]
  },
  {
   "cell_type": "code",
   "execution_count": 226,
   "id": "99b69900",
   "metadata": {},
   "outputs": [
    {
     "data": {
      "text/plain": [
       "['The', 'fox', 'the', 'dog']"
      ]
     },
     "execution_count": 226,
     "metadata": {},
     "output_type": "execute_result"
    }
   ],
   "source": [
    "exact3 = [n for n in words if len(n)==3]\n",
    "exact3"
   ]
  },
  {
   "cell_type": "code",
   "execution_count": 227,
   "id": "ea805fe0",
   "metadata": {},
   "outputs": [
    {
     "data": {
      "text/plain": [
       "['quick', 'brown', 'jumps', 'over', 'lazy']"
      ]
     },
     "execution_count": 227,
     "metadata": {},
     "output_type": "execute_result"
    }
   ],
   "source": [
    "greater3 = [n for n in words if len(n)>3]\n",
    "greater3"
   ]
  },
  {
   "cell_type": "code",
   "execution_count": 229,
   "id": "449606c6",
   "metadata": {},
   "outputs": [
    {
     "data": {
      "text/plain": [
       "['over']"
      ]
     },
     "execution_count": 229,
     "metadata": {},
     "output_type": "execute_result"
    }
   ],
   "source": [
    "vowel = [n for n in words if n[0] in ['a','e','i','o','u']]\n",
    "vowel"
   ]
  },
  {
   "cell_type": "code",
   "execution_count": null,
   "id": "87f7e05b",
   "metadata": {},
   "outputs": [],
   "source": []
  }
 ],
 "metadata": {
  "kernelspec": {
   "display_name": "Python 3",
   "language": "python",
   "name": "python3"
  },
  "language_info": {
   "codemirror_mode": {
    "name": "ipython",
    "version": 3
   },
   "file_extension": ".py",
   "mimetype": "text/x-python",
   "name": "python",
   "nbconvert_exporter": "python",
   "pygments_lexer": "ipython3",
   "version": "3.8.8"
  }
 },
 "nbformat": 4,
 "nbformat_minor": 5
}
